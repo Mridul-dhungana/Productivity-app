{
 "cells": [
  {
   "cell_type": "code",
   "execution_count": 1,
   "id": "ffefe028-5c27-4ad5-a789-e943a4155a8a",
   "metadata": {},
   "outputs": [
    {
     "name": "stdout",
     "output_type": "stream",
     "text": [
      "pygame 2.6.1 (SDL 2.28.4, Python 3.13.7)\n",
      "Hello from the pygame community. https://www.pygame.org/contribute.html\n"
     ]
    },
    {
     "name": "stderr",
     "output_type": "stream",
     "text": [
      "/Library/Frameworks/Python.framework/Versions/3.13/lib/python3.13/site-packages/pygame/pkgdata.py:25: UserWarning: pkg_resources is deprecated as an API. See https://setuptools.pypa.io/en/latest/pkg_resources.html. The pkg_resources package is slated for removal as early as 2025-11-30. Refrain from using this package or pin to Setuptools<81.\n",
      "  from pkg_resources import resource_stream, resource_exists\n"
     ]
    }
   ],
   "source": [
    "import pygame\n"
   ]
  },
  {
   "cell_type": "code",
   "execution_count": 2,
   "id": "8c6398ca-880e-4e72-b791-096ab851937b",
   "metadata": {},
   "outputs": [],
   "source": [
    "# Defining the screen\n",
    "Width, Height= 1000, 1000"
   ]
  },
  {
   "cell_type": "code",
   "execution_count": 3,
   "id": "456606e3-d972-4354-8699-6c173e968c83",
   "metadata": {},
   "outputs": [
    {
     "data": {
      "text/plain": [
       "(5, 0)"
      ]
     },
     "execution_count": 3,
     "metadata": {},
     "output_type": "execute_result"
    }
   ],
   "source": [
    "pygame.init()\n"
   ]
  },
  {
   "cell_type": "code",
   "execution_count": 4,
   "id": "7d5c301e-ba2d-415f-a023-76f11c132541",
   "metadata": {},
   "outputs": [],
   "source": [
    "#defining the pygame data screen \n",
    "# it sets up the pygame screen\n",
    "screen= pygame.display.set_mode((Width, Height))"
   ]
  },
  {
   "cell_type": "code",
   "execution_count": 6,
   "id": "151bf661-aa3f-4cf6-ac50-1a106af21c07",
   "metadata": {},
   "outputs": [],
   "source": [
    "# setting the caption for the screen\n",
    "pygame.display.set_caption(\"Digital clock\")"
   ]
  },
  {
   "cell_type": "code",
   "execution_count": 7,
   "id": "d001ec82-4a73-4de5-b6fe-2bf44c3cbfa5",
   "metadata": {},
   "outputs": [],
   "source": [
    "# defining the pygame clock\n",
    "clock=pygame.time.Clock()\n",
    "FPS=60"
   ]
  },
  {
   "cell_type": "code",
   "execution_count": 8,
   "id": "ba02f76f-bb49-4fc4-97c9-d4e4c0205187",
   "metadata": {},
   "outputs": [],
   "source": [
    "WHITE= (255, 255, 255)\n",
    "BLACK= (0,0,0)\n",
    "RED=(255,0,0)"
   ]
  },
  {
   "cell_type": "code",
   "execution_count": null,
   "id": "b8910f17-aa6f-4ed1-858c-bc8b17ce9efb",
   "metadata": {},
   "outputs": [],
   "source": [
    "def main():\n",
    "    run= True\n",
    "    while run:\n",
    "        for event in pygame.event.get():\n",
    "            if event.type==pygame.QUIT:\n",
    "                run= False\n",
    "        screen.fill(RED)\n",
    "        pygame.display.update()\n",
    "        clock.tick(FPS)\n",
    "    pygame.quit()\n"
   ]
  },
  {
   "cell_type": "code",
   "execution_count": null,
   "id": "b3372ddc-c517-4748-8e3d-28a214286fad",
   "metadata": {},
   "outputs": [],
   "source": [
    "main()"
   ]
  },
  {
   "cell_type": "code",
   "execution_count": null,
   "id": "f0d25ec0-bfa6-45eb-886f-4bfebc1a6d71",
   "metadata": {},
   "outputs": [],
   "source": []
  },
  {
   "cell_type": "code",
   "execution_count": null,
   "id": "279fca35-6930-460b-838e-37c254ae2c5f",
   "metadata": {},
   "outputs": [],
   "source": []
  }
 ],
 "metadata": {
  "kernelspec": {
   "display_name": "Python 3 (ipykernel)",
   "language": "python",
   "name": "python3"
  },
  "language_info": {
   "codemirror_mode": {
    "name": "ipython",
    "version": 3
   },
   "file_extension": ".py",
   "mimetype": "text/x-python",
   "name": "python",
   "nbconvert_exporter": "python",
   "pygments_lexer": "ipython3",
   "version": "3.13.7"
  }
 },
 "nbformat": 4,
 "nbformat_minor": 5
}
