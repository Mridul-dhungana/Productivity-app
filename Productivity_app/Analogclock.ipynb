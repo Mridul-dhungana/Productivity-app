{
 "cells": [
  {
   "cell_type": "code",
   "execution_count": 75,
   "id": "ffefe028-5c27-4ad5-a789-e943a4155a8a",
   "metadata": {},
   "outputs": [],
   "source": [
    "import pygame\n",
    "from math import pi, cos, sin\n",
    "import datetime"
   ]
  },
  {
   "cell_type": "code",
   "execution_count": 101,
   "id": "8c6398ca-880e-4e72-b791-096ab851937b",
   "metadata": {},
   "outputs": [],
   "source": [
    "# Defining the screen\n",
    "Width, Height= 1000, 1000"
   ]
  },
  {
   "cell_type": "code",
   "execution_count": 102,
   "id": "0f343cd5-c6dd-4cf3-b2ff-45d2cebd9e7e",
   "metadata": {},
   "outputs": [],
   "source": [
    "center= (Width/2, Height/2)\n",
    "# this is where we  place our clock\n",
    "clock_radius=400\n",
    "#radius of the clock\n"
   ]
  },
  {
   "cell_type": "code",
   "execution_count": 125,
   "id": "456606e3-d972-4354-8699-6c173e968c83",
   "metadata": {},
   "outputs": [
    {
     "data": {
      "text/plain": [
       "(5, 0)"
      ]
     },
     "execution_count": 125,
     "metadata": {},
     "output_type": "execute_result"
    }
   ],
   "source": [
    "pygame.init()\n"
   ]
  },
  {
   "cell_type": "code",
   "execution_count": 126,
   "id": "7d5c301e-ba2d-415f-a023-76f11c132541",
   "metadata": {},
   "outputs": [],
   "source": [
    "#defining the pygame data screen \n",
    "# it sets up the pygame screen\n",
    "screen= pygame.display.set_mode((Width, Height))"
   ]
  },
  {
   "cell_type": "code",
   "execution_count": 127,
   "id": "151bf661-aa3f-4cf6-ac50-1a106af21c07",
   "metadata": {},
   "outputs": [],
   "source": [
    "# setting the caption for the screen\n",
    "pygame.display.set_caption(\"Digital clock\")"
   ]
  },
  {
   "cell_type": "code",
   "execution_count": 128,
   "id": "d001ec82-4a73-4de5-b6fe-2bf44c3cbfa5",
   "metadata": {},
   "outputs": [],
   "source": [
    "# defining the pygame clock\n",
    "clock=pygame.time.Clock()\n",
    "FPS=60"
   ]
  },
  {
   "cell_type": "code",
   "execution_count": 129,
   "id": "ba02f76f-bb49-4fc4-97c9-d4e4c0205187",
   "metadata": {},
   "outputs": [],
   "source": [
    "WHITE= (255, 255, 255)\n",
    "BLACK= (0,0,0)\n",
    "RED=(255,0,0)"
   ]
  },
  {
   "cell_type": "code",
   "execution_count": 134,
   "id": "f0d25ec0-bfa6-45eb-886f-4bfebc1a6d71",
   "metadata": {},
   "outputs": [],
   "source": [
    "#we need to create a number in the inside of the circle \n",
    "def numbers(number, size, position):\n",
    "    font=pygame.font.SysFont(\"Arial\", size, True, False)\n",
    "    # after defining a font, we need to render that font to create a image\n",
    "    text= font.render(number, True, WHITE)\n",
    "    text_rect=text.get_rect(center=(position))\n",
    "    screen.blit(text, text_rect)\n",
    "    #screen.blit helps to draw the numbers in the screen\n",
    "    "
   ]
  },
  {
   "cell_type": "code",
   "execution_count": 135,
   "id": "f6ee1fc8-ddc2-430b-a2de-b265bae52379",
   "metadata": {},
   "outputs": [],
   "source": [
    "# conversion function for the movement of needles\n",
    "def polar_to_cartesian(r,theta):\n",
    "    x= r* sin(pi*theta/180)\n",
    "    y= r* cos(pi*theta/180)\n",
    "    return x+ Width/2, -(y-Height/2)\n",
    "    "
   ]
  },
  {
   "cell_type": "code",
   "execution_count": 136,
   "id": "b8910f17-aa6f-4ed1-858c-bc8b17ce9efb",
   "metadata": {},
   "outputs": [],
   "source": [
    "def main():\n",
    "    run= True\n",
    "    while run:\n",
    "        for event in pygame.event.get():\n",
    "            if event.type==pygame.QUIT:\n",
    "                run= False\n",
    "        screen.fill(RED)\n",
    "        #drawing a clock using pygame.draw.circle(Surface, color, align, radius of the circle,thickness)\n",
    "        pygame. draw.circle(screen, WHITE, center, clock_radius-10, 15)\n",
    "        # another circle\n",
    "        pygame.draw.circle(screen, WHITE, center, 12)\n",
    "\n",
    "        #drawing numbers\n",
    "        for number in range(1,13):\n",
    "            numbers(str(number), 80, polar_to_cartesian(clock_radius-80, number* 30))\n",
    "        \n",
    "        pygame.display.update()\n",
    "        clock.tick(FPS)\n",
    "    pygame.quit()\n"
   ]
  },
  {
   "cell_type": "code",
   "execution_count": 137,
   "id": "b3372ddc-c517-4748-8e3d-28a214286fad",
   "metadata": {},
   "outputs": [],
   "source": [
    "main()"
   ]
  },
  {
   "cell_type": "code",
   "execution_count": null,
   "id": "279fca35-6930-460b-838e-37c254ae2c5f",
   "metadata": {},
   "outputs": [],
   "source": []
  },
  {
   "cell_type": "code",
   "execution_count": null,
   "id": "86118ad2-6ed2-4ef3-aea1-52c88212187b",
   "metadata": {},
   "outputs": [],
   "source": []
  }
 ],
 "metadata": {
  "kernelspec": {
   "display_name": "Python 3 (ipykernel)",
   "language": "python",
   "name": "python3"
  },
  "language_info": {
   "codemirror_mode": {
    "name": "ipython",
    "version": 3
   },
   "file_extension": ".py",
   "mimetype": "text/x-python",
   "name": "python",
   "nbconvert_exporter": "python",
   "pygments_lexer": "ipython3",
   "version": "3.13.7"
  }
 },
 "nbformat": 4,
 "nbformat_minor": 5
}
